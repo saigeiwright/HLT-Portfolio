{
 "cells": [
  {
   "cell_type": "code",
   "execution_count": 6,
   "metadata": {},
   "outputs": [
    {
     "name": "stdout",
     "output_type": "stream",
     "text": [
      "['anatomy', 'importance', 'obvious', 'assumes', 'average', 'contraction', 'contractions', 'minute', 'contract', 'approximately', '108,000', 'million', 'nearly', 'billion', '75-year', 'lifespan', 'pumping', 'chambers', 'ejects', 'approximately']\n",
      "Unique lemmas :  1766\n",
      "[('heart', 'NN'), ('anatomy', 'VBZ'), ('the', 'DT'), ('vital', 'JJ'), ('importance', 'NN'), ('of', 'IN'), ('the', 'DT'), ('heart', 'NN'), ('is', 'VBZ'), ('obvious', 'JJ'), ('.', '.'), ('if', 'IN'), ('one', 'CD'), ('assumes', 'VBZ'), ('an', 'DT'), ('average', 'JJ'), ('rate', 'NN'), ('of', 'IN'), ('contraction', 'NN'), ('of', 'IN')]\n"
     ]
    }
   ],
   "source": [
    "import nltk\n",
    "from nltk.corpus import stopwords\n",
    "from nltk import WordNetLemmatizer\n",
    "\n",
    "lemmatizer = WordNetLemmatizer()\n",
    "fileName = \"heartAnatomy.txt\"\n",
    "with open(fileName) as reader:\n",
    "        raw_text = reader.read()\n",
    "        text_tokens = nltk.word_tokenize(raw_text.lower())\n",
    "        stop_words = set(stopwords.words('english'))\n",
    "        filtered_text = [w for w in text_tokens if not w.lower() in stop_words if len(w) > 5]\n",
    "        lemma_count_text = len(set([lemmatizer.lemmatize(w,'v') for w in filtered_text]))\n",
    "        posTag = nltk.pos_tag(text_tokens)[:20]\n",
    "print(filtered_text[:20])\n",
    "print(\"Unique lemmas : \",lemma_count_text)\n",
    "print(posTag)"
   ]
  }
 ],
 "metadata": {
  "kernelspec": {
   "display_name": "Python 3.9.12 64-bit",
   "language": "python",
   "name": "python3"
  },
  "language_info": {
   "codemirror_mode": {
    "name": "ipython",
    "version": 3
   },
   "file_extension": ".py",
   "mimetype": "text/x-python",
   "name": "python",
   "nbconvert_exporter": "python",
   "pygments_lexer": "ipython3",
   "version": "3.9.12"
  },
  "orig_nbformat": 4,
  "vscode": {
   "interpreter": {
    "hash": "ad2bdc8ecc057115af97d19610ffacc2b4e99fae6737bb82f5d7fb13d2f2c186"
   }
  }
 },
 "nbformat": 4,
 "nbformat_minor": 2
}
